{
 "cells": [
  {
   "cell_type": "code",
   "execution_count": 1,
   "metadata": {},
   "outputs": [],
   "source": [
    "import pandas as pd\n",
    "import snscrape.modules.twitter as sntwitter\n",
    "import os\n",
    "import random"
   ]
  },
  {
   "cell_type": "code",
   "execution_count": 2,
   "metadata": {},
   "outputs": [],
   "source": [
    "# from an AFL match identifier (#AFLSaintsTigers) instantiate a game instance\n",
    "\n",
    "class Game:\n",
    "    def __init__(self, identifier, home_team, away_team, home_xscore, away_xscore):\n",
    "        self.identifier = identifier\n",
    "        self.home_team = home_team\n",
    "        self.away_team = away_team\n",
    "        self.home_xscore = home_xscore\n",
    "        self.away_xscore = away_xscore\n",
    "    \n"
   ]
  },
  {
   "cell_type": "code",
   "execution_count": 3,
   "metadata": {},
   "outputs": [],
   "source": [
    "# create a dataframe for the first round expected score and then you're ready"
   ]
  },
  {
   "cell_type": "code",
   "execution_count": 4,
   "metadata": {},
   "outputs": [],
   "source": [
    "# as dataframe is in reverse chronological order, we just need to find the first instance"
   ]
  },
  {
   "cell_type": "code",
   "execution_count": 5,
   "metadata": {},
   "outputs": [],
   "source": [
    "# end goal is to build an expected score ladder"
   ]
  },
  {
   "cell_type": "code",
   "execution_count": 6,
   "metadata": {},
   "outputs": [],
   "source": [
    "def get_round_tweets(round_start_date, round_end_date):\n",
    "    # Creating list to append tweet data \n",
    "    raw_tweets = []\n",
    "    # Using TwitterSearchScraper to scrape data and append tweets to list\n",
    "    for i,tweet in enumerate(sntwitter.TwitterSearchScraper('from:AFLxScore since:' + round_start_date + ' until:' + round_end_date).get_items()): \n",
    "        raw_tweets.append([tweet.user.username, tweet.date, tweet.content]) #declare the attributes to be returned\n",
    "\n",
    "    # Creating a dataframe from the tweets list above \n",
    "    tweets_df = pd.DataFrame(raw_tweets, columns=['Username', 'Date', 'Content'])\n",
    "    return tweets_df"
   ]
  },
  {
   "cell_type": "code",
   "execution_count": 7,
   "metadata": {},
   "outputs": [],
   "source": [
    "def get_round_data(round_start_date, round_end_date):\n",
    "    tweets_df = get_round_tweets(round_start_date, round_end_date)\n",
    "    games_list = set()\n",
    "    data = []\n",
    "    for row in tweets_df.iterrows():\n",
    "        identifier = row[1][2].split(\"\\n\")[0].split()[0]\n",
    "        content = row[1][2]\n",
    "        if ((\"#\" in identifier) and (\"xScore\" in content) and ((\"GOAL\" in content) or (\"BEHIND\") in content)):\n",
    "            if (not(identifier in games_list)):\n",
    "                games_list.add(identifier)\n",
    "                data.append(content)\n",
    "    return data"
   ]
  },
  {
   "cell_type": "code",
   "execution_count": 8,
   "metadata": {},
   "outputs": [],
   "source": [
    "# from data, we can instantiate all the round's games"
   ]
  },
  {
   "cell_type": "code",
   "execution_count": 9,
   "metadata": {},
   "outputs": [],
   "source": [
    "def get_round_games(round_start_date, round_end_date):\n",
    "    games = []\n",
    "    data = get_round_data(round_start_date, round_end_date)\n",
    "    # iterate through data\n",
    "    for game in data:\n",
    "        identifier = game.split(\"\\n\")[0].split()[0]\n",
    "        expected_scores = (game.split(\"\\n\")[2].split(\"| \")[1].split(\": \")[1].split(\" - \"))\n",
    "        home_xs = float(expected_scores[0])\n",
    "        away_xs = float(expected_scores[1])\n",
    "        team_names = camel_case_split(identifier.split(\"#AFL\")[1])\n",
    "        home_team = team_names[0]\n",
    "        away_team = team_names[1]\n",
    "        game = Game(identifier, home_team, away_team, home_xs, away_xs)\n",
    "        games.append(game)\n",
    "    return games"
   ]
  },
  {
   "cell_type": "code",
   "execution_count": 10,
   "metadata": {},
   "outputs": [
    {
     "ename": "NameError",
     "evalue": "name 'camel_case_split' is not defined",
     "output_type": "error",
     "traceback": [
      "\u001b[0;31m---------------------------------------------------------------------------\u001b[0m",
      "\u001b[0;31mNameError\u001b[0m                                 Traceback (most recent call last)",
      "\u001b[0;32m<ipython-input-10-fd53ff8bd77d>\u001b[0m in \u001b[0;36m<module>\u001b[0;34m\u001b[0m\n\u001b[0;32m----> 1\u001b[0;31m \u001b[0mgames\u001b[0m \u001b[0;34m=\u001b[0m \u001b[0mget_round_games\u001b[0m\u001b[0;34m(\u001b[0m\u001b[0;34m\"2022-03-10\"\u001b[0m\u001b[0;34m,\u001b[0m \u001b[0;34m\"2022-08-31\"\u001b[0m\u001b[0;34m)\u001b[0m\u001b[0;34m\u001b[0m\u001b[0;34m\u001b[0m\u001b[0m\n\u001b[0m",
      "\u001b[0;32m<ipython-input-9-077778933e9a>\u001b[0m in \u001b[0;36mget_round_games\u001b[0;34m(round_start_date, round_end_date)\u001b[0m\n\u001b[1;32m      8\u001b[0m         \u001b[0mhome_xs\u001b[0m \u001b[0;34m=\u001b[0m \u001b[0mfloat\u001b[0m\u001b[0;34m(\u001b[0m\u001b[0mexpected_scores\u001b[0m\u001b[0;34m[\u001b[0m\u001b[0;36m0\u001b[0m\u001b[0;34m]\u001b[0m\u001b[0;34m)\u001b[0m\u001b[0;34m\u001b[0m\u001b[0;34m\u001b[0m\u001b[0m\n\u001b[1;32m      9\u001b[0m         \u001b[0maway_xs\u001b[0m \u001b[0;34m=\u001b[0m \u001b[0mfloat\u001b[0m\u001b[0;34m(\u001b[0m\u001b[0mexpected_scores\u001b[0m\u001b[0;34m[\u001b[0m\u001b[0;36m1\u001b[0m\u001b[0;34m]\u001b[0m\u001b[0;34m)\u001b[0m\u001b[0;34m\u001b[0m\u001b[0;34m\u001b[0m\u001b[0m\n\u001b[0;32m---> 10\u001b[0;31m         \u001b[0mteam_names\u001b[0m \u001b[0;34m=\u001b[0m \u001b[0mcamel_case_split\u001b[0m\u001b[0;34m(\u001b[0m\u001b[0midentifier\u001b[0m\u001b[0;34m.\u001b[0m\u001b[0msplit\u001b[0m\u001b[0;34m(\u001b[0m\u001b[0;34m\"#AFL\"\u001b[0m\u001b[0;34m)\u001b[0m\u001b[0;34m[\u001b[0m\u001b[0;36m1\u001b[0m\u001b[0;34m]\u001b[0m\u001b[0;34m)\u001b[0m\u001b[0;34m\u001b[0m\u001b[0;34m\u001b[0m\u001b[0m\n\u001b[0m\u001b[1;32m     11\u001b[0m         \u001b[0mhome_team\u001b[0m \u001b[0;34m=\u001b[0m \u001b[0mteam_names\u001b[0m\u001b[0;34m[\u001b[0m\u001b[0;36m0\u001b[0m\u001b[0;34m]\u001b[0m\u001b[0;34m\u001b[0m\u001b[0;34m\u001b[0m\u001b[0m\n\u001b[1;32m     12\u001b[0m         \u001b[0maway_team\u001b[0m \u001b[0;34m=\u001b[0m \u001b[0mteam_names\u001b[0m\u001b[0;34m[\u001b[0m\u001b[0;36m1\u001b[0m\u001b[0;34m]\u001b[0m\u001b[0;34m\u001b[0m\u001b[0;34m\u001b[0m\u001b[0m\n",
      "\u001b[0;31mNameError\u001b[0m: name 'camel_case_split' is not defined"
     ]
    }
   ],
   "source": [
    "games = get_round_games(\"2022-03-10\", \"2022-08-31\")"
   ]
  },
  {
   "cell_type": "code",
   "execution_count": null,
   "metadata": {},
   "outputs": [],
   "source": [
    "ID = []\n",
    "home_team = []\n",
    "home_xs = []\n",
    "away_team = []\n",
    "away_xs = []\n",
    "\n",
    "for game in games:\n",
    "    ID.append(game.identifier)\n",
    "    home_team.append(game.home_team)\n",
    "    home_xs.append(game.home_xscore)\n",
    "    away_team.append(game.away_team)\n",
    "    away_xs.append(game.away_xscore)\n",
    "    "
   ]
  },
  {
   "cell_type": "code",
   "execution_count": null,
   "metadata": {},
   "outputs": [],
   "source": [
    "dict = {\n",
    "    \"identifier\": ID,\n",
    "    \"home_team\": home_team,\n",
    "    \"home_xs\": home_xs,\n",
    "    \"away_team\": away_team,\n",
    "    \"away_xs\": away_xs\n",
    "}"
   ]
  },
  {
   "cell_type": "code",
   "execution_count": null,
   "metadata": {},
   "outputs": [],
   "source": [
    "df = pd.DataFrame(dict)"
   ]
  },
  {
   "cell_type": "code",
   "execution_count": null,
   "metadata": {},
   "outputs": [],
   "source": [
    "df.head(10)"
   ]
  },
  {
   "cell_type": "code",
   "execution_count": null,
   "metadata": {},
   "outputs": [],
   "source": []
  },
  {
   "cell_type": "code",
   "execution_count": null,
   "metadata": {},
   "outputs": [],
   "source": [
    "type(df.iloc[0, 4])"
   ]
  },
  {
   "cell_type": "code",
   "execution_count": null,
   "metadata": {},
   "outputs": [],
   "source": [
    "def find_expected_points(home_xscore, away_xscore):\n",
    "    print(\"hello\")"
   ]
  },
  {
   "cell_type": "code",
   "execution_count": null,
   "metadata": {},
   "outputs": [],
   "source": [
    "round21 = get_round_tweets(\"2022-08-04\", \"2022-08-11\")"
   ]
  },
  {
   "cell_type": "code",
   "execution_count": 27,
   "metadata": {},
   "outputs": [],
   "source": [
    "def create_shot_table(identifier):\n",
    "    # get only this game's data\n",
    "    all_tweets = get_round_tweets(\"2022-08-04\", \"2022-08-11\")\n",
    "    game_events = all_tweets[all_tweets[\"Content\"].str.contains(identifier)]\n",
    "    team = []\n",
    "    probability = []\n",
    "    for row in game_events.iterrows():\n",
    "        display(row)\n",
    "        '''\n",
    "        try:     \n",
    "            cell = row[1][2]\n",
    "            p = int(cell.split(\"\\n\")[1].split(\"(\")[1].split(\"%)\")[0])/100\n",
    "            t = cell.split(\"\\n\")[0].split(\" \")[-3]\n",
    "            probability.append(p)\n",
    "            team.append(t)\n",
    "        except:\n",
    "            print(\"hi\")\n",
    "            continue\n",
    "    dict = {\n",
    "        \"team\" : team,\n",
    "        \"shot_probability\" : probability\n",
    "    }\n",
    "    #return pd.DataFrame(dict)\n",
    "    '''\n",
    "    "
   ]
  },
  {
   "cell_type": "code",
   "execution_count": 28,
   "metadata": {},
   "outputs": [
    {
     "data": {
      "text/plain": [
       "(0,\n",
       " Username                                            AFLxScore\n",
       " Date                                2022-08-05 12:36:26+00:00\n",
       " Content     #AFLDeesPies Q4 34:26 COLL BEHIND \\nJCrisp 55....\n",
       " Name: 0, dtype: object)"
      ]
     },
     "metadata": {},
     "output_type": "display_data"
    },
    {
     "data": {
      "text/plain": [
       "(1,\n",
       " Username                                            AFLxScore\n",
       " Date                                2022-08-05 12:31:12+00:00\n",
       " Content     #AFLDeesPies Q4 30:32 COLL BEHIND (in play)\\nJ...\n",
       " Name: 1, dtype: object)"
      ]
     },
     "metadata": {},
     "output_type": "display_data"
    },
    {
     "data": {
      "text/plain": [
       "(2,\n",
       " Username                                            AFLxScore\n",
       " Date                                2022-08-05 12:24:06+00:00\n",
       " Content     #AFLDeesPies Q4 23:36 COLL GOAL (set)\\nAJohnso...\n",
       " Name: 2, dtype: object)"
      ]
     },
     "metadata": {},
     "output_type": "display_data"
    },
    {
     "data": {
      "text/plain": [
       "(3,\n",
       " Username                                            AFLxScore\n",
       " Date                                2022-08-05 12:21:07+00:00\n",
       " Content     #AFLDeesPies Q4 20:55 MELB GOAL (in play)\\nANe...\n",
       " Name: 3, dtype: object)"
      ]
     },
     "metadata": {},
     "output_type": "display_data"
    },
    {
     "data": {
      "text/plain": [
       "(4,\n",
       " Username                                            AFLxScore\n",
       " Date                                2022-08-05 12:20:14+00:00\n",
       " Content     #AFLDeesPies Q4 19:39 COLL GOAL (in play)\\nJDa...\n",
       " Name: 4, dtype: object)"
      ]
     },
     "metadata": {},
     "output_type": "display_data"
    },
    {
     "data": {
      "text/plain": [
       "(5,\n",
       " Username                                            AFLxScore\n",
       " Date                                2022-08-05 12:17:11+00:00\n",
       " Content     #AFLDeesPies Q4 16:12 MELB GOAL (set)\\nBBrown ...\n",
       " Name: 5, dtype: object)"
      ]
     },
     "metadata": {},
     "output_type": "display_data"
    },
    {
     "data": {
      "text/plain": [
       "(6,\n",
       " Username                                            AFLxScore\n",
       " Date                                2022-08-05 12:14:06+00:00\n",
       " Content     #AFLDeesPies Q4 13:09 COLL GOAL (set)\\nAJohnso...\n",
       " Name: 6, dtype: object)"
      ]
     },
     "metadata": {},
     "output_type": "display_data"
    },
    {
     "data": {
      "text/plain": [
       "(7,\n",
       " Username                                            AFLxScore\n",
       " Date                                2022-08-05 12:11:03+00:00\n",
       " Content     #AFLDeesPies Q4 10:23 COLL GOAL (set)\\nJElliot...\n",
       " Name: 7, dtype: object)"
      ]
     },
     "metadata": {},
     "output_type": "display_data"
    },
    {
     "data": {
      "text/plain": [
       "(8,\n",
       " Username                                            AFLxScore\n",
       " Date                                2022-08-05 11:53:10+00:00\n",
       " Content     #AFLDeesPies Q3 29:26 MELB BEHIND (set)\\nBBrow...\n",
       " Name: 8, dtype: object)"
      ]
     },
     "metadata": {},
     "output_type": "display_data"
    },
    {
     "data": {
      "text/plain": [
       "(9,\n",
       " Username                                            AFLxScore\n",
       " Date                                2022-08-05 11:50:44+00:00\n",
       " Content     #AFLDeesPies Q3 26:55 COLL GOAL (in play)\\nPLi...\n",
       " Name: 9, dtype: object)"
      ]
     },
     "metadata": {},
     "output_type": "display_data"
    },
    {
     "data": {
      "text/plain": [
       "(10,\n",
       " Username                                            AFLxScore\n",
       " Date                                2022-08-05 11:47:11+00:00\n",
       " Content     #AFLDeesPies Q3 23:51 COLL GOAL (set)\\nBMihoce...\n",
       " Name: 10, dtype: object)"
      ]
     },
     "metadata": {},
     "output_type": "display_data"
    },
    {
     "data": {
      "text/plain": [
       "(11,\n",
       " Username                                            AFLxScore\n",
       " Date                                2022-08-05 11:42:12+00:00\n",
       " Content     #AFLDeesPies Q3 18:25 MELB GOAL (in play)\\nCSp...\n",
       " Name: 11, dtype: object)"
      ]
     },
     "metadata": {},
     "output_type": "display_data"
    },
    {
     "data": {
      "text/plain": [
       "(12,\n",
       " Username                                            AFLxScore\n",
       " Date                                2022-08-05 11:39:07+00:00\n",
       " Content     #AFLDeesPies Q3 15:54 COLL BEHIND (in play)\\nJ...\n",
       " Name: 12, dtype: object)"
      ]
     },
     "metadata": {},
     "output_type": "display_data"
    },
    {
     "data": {
      "text/plain": [
       "(13,\n",
       " Username                                            AFLxScore\n",
       " Date                                2022-08-05 11:31:11+00:00\n",
       " Content     #AFLDeesPies Q3 7:46 COLL GOAL (set)\\nBMcCreer...\n",
       " Name: 13, dtype: object)"
      ]
     },
     "metadata": {},
     "output_type": "display_data"
    },
    {
     "data": {
      "text/plain": [
       "(14,\n",
       " Username                                            AFLxScore\n",
       " Date                                2022-08-05 11:28:11+00:00\n",
       " Content     #AFLDeesPies Q3 4:22 MELB BEHIND (in play)\\nKP...\n",
       " Name: 14, dtype: object)"
      ]
     },
     "metadata": {},
     "output_type": "display_data"
    },
    {
     "data": {
      "text/plain": [
       "(15,\n",
       " Username                                            AFLxScore\n",
       " Date                                2022-08-05 11:03:35+00:00\n",
       " Content     #AFLDeesPies Q2 31:07 MELB BEHIND \\nCPetracca ...\n",
       " Name: 15, dtype: object)"
      ]
     },
     "metadata": {},
     "output_type": "display_data"
    },
    {
     "data": {
      "text/plain": [
       "(16,\n",
       " Username                                            AFLxScore\n",
       " Date                                2022-08-05 11:01:19+00:00\n",
       " Content     #AFLDeesPies Q2 29:24 COLL GOAL (in play)\\nAJo...\n",
       " Name: 16, dtype: object)"
      ]
     },
     "metadata": {},
     "output_type": "display_data"
    },
    {
     "data": {
      "text/plain": [
       "(17,\n",
       " Username                                            AFLxScore\n",
       " Date                                2022-08-05 10:56:09+00:00\n",
       " Content     #AFLDeesPies Q2 24:14 MELB GOAL (set)\\nBFritsc...\n",
       " Name: 17, dtype: object)"
      ]
     },
     "metadata": {},
     "output_type": "display_data"
    },
    {
     "data": {
      "text/plain": [
       "(18,\n",
       " Username                                            AFLxScore\n",
       " Date                                2022-08-05 10:54:07+00:00\n",
       " Content     #AFLDeesPies Q2 21:49 COLL BEHIND (in play)\\nB...\n",
       " Name: 18, dtype: object)"
      ]
     },
     "metadata": {},
     "output_type": "display_data"
    },
    {
     "data": {
      "text/plain": [
       "(19,\n",
       " Username                                            AFLxScore\n",
       " Date                                2022-08-05 10:52:13+00:00\n",
       " Content     #AFLDeesPies Q2 20:20 MELB GOAL (set)\\nBBrown ...\n",
       " Name: 19, dtype: object)"
      ]
     },
     "metadata": {},
     "output_type": "display_data"
    },
    {
     "data": {
      "text/plain": [
       "(20,\n",
       " Username                                            AFLxScore\n",
       " Date                                2022-08-05 10:46:09+00:00\n",
       " Content     #AFLDeesPies Q2 14:12 COLL GOAL (in play)\\nBMi...\n",
       " Name: 20, dtype: object)"
      ]
     },
     "metadata": {},
     "output_type": "display_data"
    },
    {
     "data": {
      "text/plain": [
       "(21,\n",
       " Username                                            AFLxScore\n",
       " Date                                2022-08-05 10:43:08+00:00\n",
       " Content     #AFLDeesPies Q2 10:54 COLL GOAL (set)\\nJElliot...\n",
       " Name: 21, dtype: object)"
      ]
     },
     "metadata": {},
     "output_type": "display_data"
    },
    {
     "data": {
      "text/plain": [
       "(22,\n",
       " Username                                            AFLxScore\n",
       " Date                                2022-08-05 10:41:04+00:00\n",
       " Content     #AFLDeesPies Q2 8:58 MELB GOAL (set)\\nTSparrow...\n",
       " Name: 22, dtype: object)"
      ]
     },
     "metadata": {},
     "output_type": "display_data"
    },
    {
     "data": {
      "text/plain": [
       "(23,\n",
       " Username                                            AFLxScore\n",
       " Date                                2022-08-05 10:39:08+00:00\n",
       " Content     #AFLDeesPies Q2 7:00 MELB BEHIND (set)\\nMGawn ...\n",
       " Name: 23, dtype: object)"
      ]
     },
     "metadata": {},
     "output_type": "display_data"
    },
    {
     "data": {
      "text/plain": [
       "(24,\n",
       " Username                                            AFLxScore\n",
       " Date                                2022-08-05 10:37:07+00:00\n",
       " Content     #AFLDeesPies Q2 5:13 MELB GOAL (set)\\nELangdon...\n",
       " Name: 24, dtype: object)"
      ]
     },
     "metadata": {},
     "output_type": "display_data"
    },
    {
     "data": {
      "text/plain": [
       "(25,\n",
       " Username                                            AFLxScore\n",
       " Date                                2022-08-05 10:36:11+00:00\n",
       " Content     #AFLDeesPies Q2 3:46 MELB BEHIND (set)\\nJMelks...\n",
       " Name: 25, dtype: object)"
      ]
     },
     "metadata": {},
     "output_type": "display_data"
    },
    {
     "data": {
      "text/plain": [
       "(26,\n",
       " Username                                            AFLxScore\n",
       " Date                                2022-08-05 10:35:10+00:00\n",
       " Content     #AFLDeesPies Q2 2:57 MELB BEHIND (in play)\\nCP...\n",
       " Name: 26, dtype: object)"
      ]
     },
     "metadata": {},
     "output_type": "display_data"
    },
    {
     "data": {
      "text/plain": [
       "(27,\n",
       " Username                                            AFLxScore\n",
       " Date                                2022-08-05 10:25:38+00:00\n",
       " Content     #AFLDeesPies Q1 35:02 MELB BEHIND \\nCSalem 41....\n",
       " Name: 27, dtype: object)"
      ]
     },
     "metadata": {},
     "output_type": "display_data"
    },
    {
     "data": {
      "text/plain": [
       "(28,\n",
       " Username                                            AFLxScore\n",
       " Date                                2022-08-05 10:23:06+00:00\n",
       " Content     #AFLDeesPies Q1 32:18 MELB GOAL (in play)\\nKPi...\n",
       " Name: 28, dtype: object)"
      ]
     },
     "metadata": {},
     "output_type": "display_data"
    },
    {
     "data": {
      "text/plain": [
       "(29,\n",
       " Username                                            AFLxScore\n",
       " Date                                2022-08-05 10:20:02+00:00\n",
       " Content     #AFLDeesPies Q1 29:15 COLL GOAL (set)\\nJElliot...\n",
       " Name: 29, dtype: object)"
      ]
     },
     "metadata": {},
     "output_type": "display_data"
    },
    {
     "data": {
      "text/plain": [
       "(30,\n",
       " Username                                            AFLxScore\n",
       " Date                                2022-08-05 10:18:03+00:00\n",
       " Content     #AFLDeesPies Q1 26:56 COLL GOAL (set)\\nAJohnso...\n",
       " Name: 30, dtype: object)"
      ]
     },
     "metadata": {},
     "output_type": "display_data"
    },
    {
     "data": {
      "text/plain": [
       "(31,\n",
       " Username                                            AFLxScore\n",
       " Date                                2022-08-05 10:16:06+00:00\n",
       " Content     #AFLDeesPies Q1 25:17 MELB GOAL (set)\\nBFritsc...\n",
       " Name: 31, dtype: object)"
      ]
     },
     "metadata": {},
     "output_type": "display_data"
    },
    {
     "data": {
      "text/plain": [
       "(32,\n",
       " Username                                            AFLxScore\n",
       " Date                                2022-08-05 10:14:11+00:00\n",
       " Content     #AFLDeesPies Q1 22:53 COLL GOAL (set)\\nMCox 34...\n",
       " Name: 32, dtype: object)"
      ]
     },
     "metadata": {},
     "output_type": "display_data"
    },
    {
     "data": {
      "text/plain": [
       "(33,\n",
       " Username                                            AFLxScore\n",
       " Date                                2022-08-05 10:09:08+00:00\n",
       " Content     #AFLDeesPies Q1 18:41 MELB BEHIND (set)\\nMGawn...\n",
       " Name: 33, dtype: object)"
      ]
     },
     "metadata": {},
     "output_type": "display_data"
    },
    {
     "data": {
      "text/plain": [
       "(34,\n",
       " Username                                            AFLxScore\n",
       " Date                                2022-08-05 10:04:43+00:00\n",
       " Content     #AFLDeesPies Q1 13:44 MELB GOAL (set)\\nJMelksh...\n",
       " Name: 34, dtype: object)"
      ]
     },
     "metadata": {},
     "output_type": "display_data"
    },
    {
     "data": {
      "text/plain": [
       "(35,\n",
       " Username                                            AFLxScore\n",
       " Date                                2022-08-05 10:01:26+00:00\n",
       " Content     #AFLDeesPies Q1 10:37 COLL GOAL (set)\\nJElliot...\n",
       " Name: 35, dtype: object)"
      ]
     },
     "metadata": {},
     "output_type": "display_data"
    },
    {
     "data": {
      "text/plain": [
       "(36,\n",
       " Username                                            AFLxScore\n",
       " Date                                2022-08-05 09:59:07+00:00\n",
       " Content     #AFLDeesPies Q1 7:46 MELB GOAL (in play)\\nJVin...\n",
       " Name: 36, dtype: object)"
      ]
     },
     "metadata": {},
     "output_type": "display_data"
    },
    {
     "data": {
      "text/plain": [
       "(37,\n",
       " Username                                            AFLxScore\n",
       " Date                                2022-08-05 09:56:09+00:00\n",
       " Content     #AFLDeesPies Q1 5:40 MELB GOAL (set)\\nCSalem 4...\n",
       " Name: 37, dtype: object)"
      ]
     },
     "metadata": {},
     "output_type": "display_data"
    },
    {
     "data": {
      "text/plain": [
       "(38,\n",
       " Username                                            AFLxScore\n",
       " Date                                2022-08-05 09:54:06+00:00\n",
       " Content     #AFLDeesPies Q1 3:30 MELB GOAL \\nCPetracca 20....\n",
       " Name: 38, dtype: object)"
      ]
     },
     "metadata": {},
     "output_type": "display_data"
    },
    {
     "data": {
      "text/plain": [
       "(39,\n",
       " Username                                            AFLxScore\n",
       " Date                                2022-08-05 09:53:04+00:00\n",
       " Content     #AFLDeesPies Q1 2:13 COLL GOAL (in play)\\nJDe ...\n",
       " Name: 39, dtype: object)"
      ]
     },
     "metadata": {},
     "output_type": "display_data"
    }
   ],
   "source": [
    "melbDons = create_shot_table(\"AFLDeesPies\")\n",
    "melbDons"
   ]
  },
  {
   "cell_type": "code",
   "execution_count": 14,
   "metadata": {},
   "outputs": [
    {
     "data": {
      "text/plain": [
       "40"
      ]
     },
     "execution_count": 14,
     "metadata": {},
     "output_type": "execute_result"
    }
   ],
   "source": [
    "sort = melbDons.sort_values(by = [\"team\"])\n",
    "len(sort)"
   ]
  },
  {
   "cell_type": "code",
   "execution_count": null,
   "metadata": {},
   "outputs": [],
   "source": [
    "# simulate a game\n",
    "team1 = sort.iloc[0][0]\n",
    "team1_shots = []\n",
    "team2 = \"\"\n",
    "team2_shots = []\n",
    "for row in sort.iterrows():\n",
    "    team = row[1][0]\n",
    "    shot_prob = row[1][1]\n",
    "    if (team == team1):\n",
    "        team1_shots.append(shot_prob)\n",
    "    else:\n",
    "        team2 = team\n",
    "        team2_shots.append(shot_prob)"
   ]
  },
  {
   "cell_type": "code",
   "execution_count": null,
   "metadata": {},
   "outputs": [],
   "source": [
    "team1"
   ]
  },
  {
   "cell_type": "code",
   "execution_count": null,
   "metadata": {},
   "outputs": [],
   "source": [
    "team2"
   ]
  },
  {
   "cell_type": "code",
   "execution_count": null,
   "metadata": {},
   "outputs": [],
   "source": [
    "team1_wins = 0\n",
    "draws = 0\n",
    "team2_wins = 0\n",
    "for i in range(10000):\n",
    "    team1_points = 0\n",
    "    team2_points = 0\n",
    "    for j in range(len(team1_shots)):\n",
    "        x = random.random()\n",
    "        if x < team1_shots[j]:\n",
    "            team1_points += 6\n",
    "        else:\n",
    "            team1_points += 1\n",
    "    for k in range(len(team2_shots)):\n",
    "        y = random.random()\n",
    "        if y < team2_shots[k]:\n",
    "            team2_points += 6\n",
    "        else:\n",
    "            team2_points += 1\n",
    "            \n",
    "    if (team1_points > team2_points):\n",
    "        team1_wins += 1\n",
    "    elif (team2_points > team1_points):\n",
    "        team2_wins += 1\n",
    "    else:\n",
    "        draws += 1\n",
    "    \n",
    "    print(team1_points, team2_points)\n",
    "    \n",
    "team1_points = (team1_wins * 4) + (draws * 2)\n",
    "team2_points = (team2_wins * 4) + (draws * 2)\n",
    "team1_xp = team1_points / 10000\n",
    "team2_xp = team2_points / 10000"
   ]
  },
  {
   "cell_type": "code",
   "execution_count": null,
   "metadata": {},
   "outputs": [],
   "source": [
    "team1_wins"
   ]
  },
  {
   "cell_type": "code",
   "execution_count": null,
   "metadata": {},
   "outputs": [],
   "source": [
    "team2_wins"
   ]
  },
  {
   "cell_type": "code",
   "execution_count": null,
   "metadata": {},
   "outputs": [],
   "source": [
    "team1_xp"
   ]
  },
  {
   "cell_type": "code",
   "execution_count": null,
   "metadata": {},
   "outputs": [],
   "source": [
    "team2_xp"
   ]
  },
  {
   "cell_type": "code",
   "execution_count": null,
   "metadata": {},
   "outputs": [],
   "source": [
    "sort"
   ]
  },
  {
   "cell_type": "code",
   "execution_count": null,
   "metadata": {},
   "outputs": [],
   "source": [
    "# check why there is such a big disparity in expected points between bluesHawks and piesCats"
   ]
  },
  {
   "cell_type": "code",
   "execution_count": null,
   "metadata": {},
   "outputs": [],
   "source": [
    "melbDons"
   ]
  },
  {
   "cell_type": "code",
   "execution_count": 17,
   "metadata": {},
   "outputs": [
    {
     "name": "stdout",
     "output_type": "stream",
     "text": [
      "['#AFLFreoGiants Q4 28:37 FRE GOAL \\nSDarcy 17.2m 25° xScore 4.45 (68%)\\nScore: FRE 88 - 54 GWS | xScore: 90.4 - 46.1\\nFRE WIN CALLED at Q4 22:51 | Pregame 62.8% 12.1 pts', '#AFLTigersDogs Q4 29:29 RICH BEHIND \\nJRiewoldt 36.6m 40° xScore 3.57 (51%)\\nScore: RICH 99 - 61 WB | xScore: 80.1 - 89.6\\nRICH WIN CALLED at Q4 15:56 | Pregame 48.9% -1.0 pts', '#AFLPiesEagles Q4 25:54 WCE GOAL \\nJDarling 17.9m 56° xScore 3.47 (49%)\\nScore: COLL 73 - 87 WCE | xScore: 90.0 - 51.7\\nPrediction: WCE Win 94.0% 13.1pts | Pregame 32.6% -16.5 pts', '#AFLSwansNorth Q4 28:57 SYD GOAL \\nIHeeney 53.6m 55° xScore 2.85 (37%)\\nScore: SYD 86 - 75 NMFC | xScore: 79.1 - 78.3\\nNo prediction | Pregame 75.9% 26.2 pts', '#AFLCatsLions Q4 24:54 GEEL BEHIND \\nLDahlhaus 42.9m 50° xScore 3.29 (45%)\\nScore: GEEL 79 - 70 BL | xScore: 77.7 - 52.3\\nPrediction: GEEL Win 82.7% 8.9pts | Pregame 48.8% -1.1 pts', '#AFLPowerDees Q4 29:13 PORT BEHIND \\nDByrne-Jones 42.1m 20° xScore 3.66 (53%)\\nScore: PORT 36 - 68 MELB | xScore: 48.8 - 69.8\\nMELB WIN CALLED at Q3 11:55 | Pregame 66.7% 15.3 pts']\n"
     ]
    }
   ],
   "source": [
    "games = get_round_games(\"2022-04-04\", \"2022-04-10\")"
   ]
  },
  {
   "cell_type": "code",
   "execution_count": 18,
   "metadata": {},
   "outputs": [
    {
     "name": "stdout",
     "output_type": "stream",
     "text": [
      "[<__main__.Game object at 0x7fe1a2c491f0>, <__main__.Game object at 0x7fe1a2c49a00>, <__main__.Game object at 0x7fe1a2c490d0>, <__main__.Game object at 0x7fe1a2c49610>, <__main__.Game object at 0x7fe1a2c493d0>, <__main__.Game object at 0x7fe1a2c49b20>]\n"
     ]
    }
   ],
   "source": []
  },
  {
   "cell_type": "code",
   "execution_count": 11,
   "metadata": {},
   "outputs": [],
   "source": [
    "def camel_case_split(str):\n",
    "    words = [[str[0]]]\n",
    "  \n",
    "    for c in str[1:]:\n",
    "        if words[-1][-1].islower() and c.isupper():\n",
    "            words.append(list(c))\n",
    "        else:\n",
    "            words[-1].append(c)\n",
    "  \n",
    "    return [''.join(word) for word in words]"
   ]
  },
  {
   "cell_type": "code",
   "execution_count": null,
   "metadata": {},
   "outputs": [],
   "source": []
  },
  {
   "cell_type": "code",
   "execution_count": null,
   "metadata": {},
   "outputs": [],
   "source": []
  }
 ],
 "metadata": {
  "kernelspec": {
   "display_name": "Python 3",
   "language": "python",
   "name": "python3"
  },
  "language_info": {
   "codemirror_mode": {
    "name": "ipython",
    "version": 3
   },
   "file_extension": ".py",
   "mimetype": "text/x-python",
   "name": "python",
   "nbconvert_exporter": "python",
   "pygments_lexer": "ipython3",
   "version": "3.9.1"
  }
 },
 "nbformat": 4,
 "nbformat_minor": 4
}
