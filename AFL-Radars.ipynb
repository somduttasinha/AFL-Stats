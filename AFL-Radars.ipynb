{
 "cells": [
  {
   "cell_type": "code",
   "execution_count": 193,
   "metadata": {},
   "outputs": [],
   "source": [
    "import pandas as pd\n",
    "import numpy as np\n",
    "from soccerplots.radar_chart import Radar"
   ]
  },
  {
   "cell_type": "code",
   "execution_count": 194,
   "metadata": {},
   "outputs": [
    {
     "name": "stdout",
     "output_type": "stream",
     "text": [
      "Enter Player 1 Name: Chad Warner\n",
      "Enter Player 1 year: 2022\n",
      "Enter Player 2 Name: Dustin Martin\n",
      "Enter Player 2 year: 2012\n",
      "Enter Template: Attacking Midfielder\n"
     ]
    }
   ],
   "source": [
    "name1 = input(\"Enter Player 1 Name: \")\n",
    "year1 = input(\"Enter Player 1 year: \")\n",
    "name2 = input(\"Enter Player 2 Name: \")\n",
    "year2 = input(\"Enter Player 2 year: \")\n",
    "template = input(\"Enter Template: \")"
   ]
  },
  {
   "cell_type": "code",
   "execution_count": 195,
   "metadata": {},
   "outputs": [],
   "source": [
    "# DEFENCE QUALIFIERS\n",
    "\n",
    "# intercepts > 4.3\n",
    "\n",
    "def get_defenders(year):\n",
    "    path = \"/Users/somduttasinha/Google Drive/Personal Projects/AFL-Stats/\"\n",
    "    df = pd.read_csv(path + str(year)+\"_stats.csv\")\n",
    "    df.fillna(0, inplace=True)\n",
    "    df.rename(columns={\"Goal Assits\": \"Goal Assists\"}, inplace=True)\n",
    "    defenders = df[df[\"Intercepts\"]>4.3]\n",
    "    return defenders"
   ]
  },
  {
   "cell_type": "code",
   "execution_count": 196,
   "metadata": {},
   "outputs": [],
   "source": [
    "# MIDFIELD QUALIFIERS\n",
    "\n",
    "# disposals > 20\n",
    "\n",
    "def get_midfielders(year):\n",
    "    path = \"/Users/somduttasinha/Google Drive/Personal Projects/AFL-Stats/\"\n",
    "    df = pd.read_csv(path + str(year)+\"_stats.csv\")\n",
    "    df.fillna(0, inplace=True)\n",
    "    df.rename(columns={\"Goal Assits\": \"Goal Assists\"}, inplace=True)\n",
    "    midfielders = df[df[\"Disposals\"]>15]\n",
    "    return midfielders"
   ]
  },
  {
   "cell_type": "code",
   "execution_count": 197,
   "metadata": {},
   "outputs": [],
   "source": [
    "# FORWARD QUALIFIERS\n",
    "\n",
    "# goals > 0.7\n",
    "\n",
    "def get_forwards(year):\n",
    "    path = \"/Users/somduttasinha/Google Drive/Personal Projects/AFL-Stats/\"\n",
    "    df = pd.read_csv(path + str(year)+\"_stats.csv\")\n",
    "    df.fillna(0, inplace=True)\n",
    "    df.rename(columns={\"Goal Assits\": \"Goal Assists\"}, inplace=True)\n",
    "    forwards = df[df[\"Goals\"]>0.7]\n",
    "    return forwards"
   ]
  },
  {
   "cell_type": "code",
   "execution_count": 198,
   "metadata": {},
   "outputs": [],
   "source": [
    "# ATTACKING FORWARD QUALIFIERS\n",
    "\n",
    "# both midfield and forward\n"
   ]
  },
  {
   "cell_type": "code",
   "execution_count": 199,
   "metadata": {},
   "outputs": [],
   "source": [
    "defender_template = [\"firstName\", \"Team\", \"Games Played\", \"Disposals\", \"Marks\", \"Tackles\", \"Effective Disposals\", \"Contested Marks\", \"Rebound 50s\", \"One Percenters\", \"Metres Gained\", \"Intercepts\"]"
   ]
  },
  {
   "cell_type": "code",
   "execution_count": 200,
   "metadata": {},
   "outputs": [],
   "source": [
    "defensiveMidfielder_template = [\"Name\", \"Team\", \"Games Played\", \"Kicks\", \"Handballs\", \"Disposals\", \"Marks\", \"Tackles\", \"Contested Possessions\", \"Uncontested Possessions\", \"Disposal Efficiency\", \"Clearances\", \"Centre Clearances\", \"Stoppage Clearances\"]"
   ]
  },
  {
   "cell_type": "code",
   "execution_count": 201,
   "metadata": {},
   "outputs": [],
   "source": [
    "attackingMidfielder_template = [\"Name\", \"Team\", \"Games Played\", \"Kicks\", \"Handballs\", \"Disposals\", \"Marks\", \"Tackles\", \"Metres Gained\", \"Goals\", \"Clearances\", \"Score Involvements\", \"Inside 50s\", \"Disposal Efficiency\"]"
   ]
  },
  {
   "cell_type": "code",
   "execution_count": 202,
   "metadata": {},
   "outputs": [],
   "source": [
    "forward_template = [\"Name\", \"Team\", \"Games Played\", \"Disposals\", \"Marks\", \"Contested Marks\", \"Metres Gained\", \"Goals\", \"Inside 50s\", \"Goal Assists\", \"Marks Inside 50\", \"Score Involvements\", \"Tackles Inside 50\", \"One Percenters\"]"
   ]
  },
  {
   "cell_type": "code",
   "execution_count": 203,
   "metadata": {},
   "outputs": [],
   "source": [
    "template_dictionary = {\n",
    "    \"Defender\": defender_template,\n",
    "    \"Defensive Midfielder\": defensiveMidfielder_template,\n",
    "    \"Attacking Midfielder\": attackingMidfielder_template,\n",
    "    \"Forward\": forward_template\n",
    "}\n"
   ]
  },
  {
   "cell_type": "code",
   "execution_count": 204,
   "metadata": {},
   "outputs": [],
   "source": [
    "def create_radar(name, year, template, pct=False):\n",
    "    ## parameter names\n",
    "    position_stats = template_dictionary[template]\n",
    "    params = position_stats[3:]\n",
    "    \n",
    "    # edit below\n",
    "    \n",
    "    if(pct):\n",
    "        if template==\"Defender\":\n",
    "            df = percentile_df(get_defenders(year))\n",
    "        elif template==\"Forward\":\n",
    "            df = percentile_df(get_forwards(year))\n",
    "        else:\n",
    "            df = percentile_df(get_midfielders(year))\n",
    "    else:    \n",
    "        if template==\"Defender\":\n",
    "            df = get_defenders(year)\n",
    "        elif template==\"Forward\":\n",
    "            df = get_forwards(year)\n",
    "        else:\n",
    "            df = get_midfielders(year)\n",
    "        \n",
    "    df = df[position_stats]\n",
    "    \n",
    "    ## range values\n",
    "    ranges = []\n",
    "    for category in position_stats[3:]:\n",
    "        value = (df[category].min(), df[category].max())\n",
    "        ranges.append(value)\n",
    "\n",
    "    \n",
    "\n",
    "    ## parameter value\n",
    "    row = df[df[\"Name\"].str.contains(name)].iloc[0].to_list()\n",
    "    values = row[3:]\n",
    "\n",
    "\n",
    "    ## instantiate object\n",
    "    ## instantiate object \n",
    "    radar = Radar(background_color=\"#121212\", patch_color=\"#28252C\", label_color=\"#FFFFFF\",\n",
    "              range_color=\"#FFFFFF\", fontfamily=\"Gayathri\")\n",
    "              \n",
    "\n",
    "\n",
    "    title = dict(\n",
    "        title_name=row[0],\n",
    "        title_color='#E3DDED',\n",
    "        subtitle_name=row[1],\n",
    "        subtitle_color='#B6282F',\n",
    "        title_name_2='Year: ' + year,    ## title on right side\n",
    "        title_color_2 = \"#E3DDED\",\n",
    "        subtitle_color_2 = \"#E3DDED\",\n",
    "        subtitle_name_2=template,\n",
    "        title_fontsize=18,\n",
    "        subtitle_fontsize=15,\n",
    "    )\n",
    "    \n",
    "    endnote=\"Created by Som Sinha\\nTwitter: @sdoemv\"\n",
    "\n",
    "\n",
    "    ## plot radar\n",
    "    ## plot radar\n",
    "    fig, ax = radar.plot_radar(ranges=ranges, params=params, \n",
    "                           values=values, radar_color=['#a4161a', '#660708'], \n",
    "                           title=title, dpi=1500, endnote=endnote)"
   ]
  },
  {
   "cell_type": "code",
   "execution_count": 205,
   "metadata": {},
   "outputs": [],
   "source": [
    "# convert a given dataframe to percentile\n",
    "\n",
    "def percentile_df(df):\n",
    "    pct_df = pd.DataFrame()\n",
    "    pct_df[\"Name\"] = df[\"Name\"]\n",
    "    pct_df[\"Team\"] = df[\"Team\"]\n",
    "    pct_df[\"Games Played\"] = df[\"Games Played\"]\n",
    "    \n",
    "    for category in df.columns[3:]:\n",
    "        pct_df[category] = df[category].rank(pct = True)*100\n",
    "    \n",
    "    return pct_df"
   ]
  },
  {
   "cell_type": "code",
   "execution_count": 206,
   "metadata": {},
   "outputs": [
    {
     "ename": "KeyError",
     "evalue": "'Disposals'",
     "output_type": "error",
     "traceback": [
      "\u001b[0;31m---------------------------------------------------------------------------\u001b[0m",
      "\u001b[0;31mKeyError\u001b[0m                                  Traceback (most recent call last)",
      "\u001b[0;32m/Library/Frameworks/Python.framework/Versions/3.9/lib/python3.9/site-packages/pandas/core/indexes/base.py\u001b[0m in \u001b[0;36mget_loc\u001b[0;34m(self, key, method, tolerance)\u001b[0m\n\u001b[1;32m   2897\u001b[0m             \u001b[0;32mtry\u001b[0m\u001b[0;34m:\u001b[0m\u001b[0;34m\u001b[0m\u001b[0;34m\u001b[0m\u001b[0m\n\u001b[0;32m-> 2898\u001b[0;31m                 \u001b[0;32mreturn\u001b[0m \u001b[0mself\u001b[0m\u001b[0;34m.\u001b[0m\u001b[0m_engine\u001b[0m\u001b[0;34m.\u001b[0m\u001b[0mget_loc\u001b[0m\u001b[0;34m(\u001b[0m\u001b[0mcasted_key\u001b[0m\u001b[0;34m)\u001b[0m\u001b[0;34m\u001b[0m\u001b[0;34m\u001b[0m\u001b[0m\n\u001b[0m\u001b[1;32m   2899\u001b[0m             \u001b[0;32mexcept\u001b[0m \u001b[0mKeyError\u001b[0m \u001b[0;32mas\u001b[0m \u001b[0merr\u001b[0m\u001b[0;34m:\u001b[0m\u001b[0;34m\u001b[0m\u001b[0;34m\u001b[0m\u001b[0m\n",
      "\u001b[0;32mpandas/_libs/index.pyx\u001b[0m in \u001b[0;36mpandas._libs.index.IndexEngine.get_loc\u001b[0;34m()\u001b[0m\n",
      "\u001b[0;32mpandas/_libs/index.pyx\u001b[0m in \u001b[0;36mpandas._libs.index.IndexEngine.get_loc\u001b[0;34m()\u001b[0m\n",
      "\u001b[0;32mpandas/_libs/hashtable_class_helper.pxi\u001b[0m in \u001b[0;36mpandas._libs.hashtable.PyObjectHashTable.get_item\u001b[0;34m()\u001b[0m\n",
      "\u001b[0;32mpandas/_libs/hashtable_class_helper.pxi\u001b[0m in \u001b[0;36mpandas._libs.hashtable.PyObjectHashTable.get_item\u001b[0;34m()\u001b[0m\n",
      "\u001b[0;31mKeyError\u001b[0m: 'Disposals'",
      "\nThe above exception was the direct cause of the following exception:\n",
      "\u001b[0;31mKeyError\u001b[0m                                  Traceback (most recent call last)",
      "\u001b[0;32m<ipython-input-206-82cb617f4f43>\u001b[0m in \u001b[0;36m<module>\u001b[0;34m\u001b[0m\n\u001b[0;32m----> 1\u001b[0;31m \u001b[0mcreate_radar\u001b[0m\u001b[0;34m(\u001b[0m\u001b[0mname1\u001b[0m\u001b[0;34m,\u001b[0m \u001b[0myear1\u001b[0m\u001b[0;34m,\u001b[0m \u001b[0mtemplate\u001b[0m\u001b[0;34m,\u001b[0m \u001b[0mpct\u001b[0m\u001b[0;34m=\u001b[0m\u001b[0;32mTrue\u001b[0m\u001b[0;34m)\u001b[0m\u001b[0;34m\u001b[0m\u001b[0;34m\u001b[0m\u001b[0m\n\u001b[0m",
      "\u001b[0;32m<ipython-input-204-8cd4f523bffa>\u001b[0m in \u001b[0;36mcreate_radar\u001b[0;34m(name, year, template, pct)\u001b[0m\n\u001b[1;32m     12\u001b[0m             \u001b[0mdf\u001b[0m \u001b[0;34m=\u001b[0m \u001b[0mpercentile_df\u001b[0m\u001b[0;34m(\u001b[0m\u001b[0mget_forwards\u001b[0m\u001b[0;34m(\u001b[0m\u001b[0myear\u001b[0m\u001b[0;34m)\u001b[0m\u001b[0;34m)\u001b[0m\u001b[0;34m\u001b[0m\u001b[0;34m\u001b[0m\u001b[0m\n\u001b[1;32m     13\u001b[0m         \u001b[0;32melse\u001b[0m\u001b[0;34m:\u001b[0m\u001b[0;34m\u001b[0m\u001b[0;34m\u001b[0m\u001b[0m\n\u001b[0;32m---> 14\u001b[0;31m             \u001b[0mdf\u001b[0m \u001b[0;34m=\u001b[0m \u001b[0mpercentile_df\u001b[0m\u001b[0;34m(\u001b[0m\u001b[0mget_midfielders\u001b[0m\u001b[0;34m(\u001b[0m\u001b[0myear\u001b[0m\u001b[0;34m)\u001b[0m\u001b[0;34m)\u001b[0m\u001b[0;34m\u001b[0m\u001b[0;34m\u001b[0m\u001b[0m\n\u001b[0m\u001b[1;32m     15\u001b[0m     \u001b[0;32melse\u001b[0m\u001b[0;34m:\u001b[0m\u001b[0;34m\u001b[0m\u001b[0;34m\u001b[0m\u001b[0m\n\u001b[1;32m     16\u001b[0m         \u001b[0;32mif\u001b[0m \u001b[0mtemplate\u001b[0m\u001b[0;34m==\u001b[0m\u001b[0;34m\"Defender\"\u001b[0m\u001b[0;34m:\u001b[0m\u001b[0;34m\u001b[0m\u001b[0;34m\u001b[0m\u001b[0m\n",
      "\u001b[0;32m<ipython-input-196-595fc3fc9c1e>\u001b[0m in \u001b[0;36mget_midfielders\u001b[0;34m(year)\u001b[0m\n\u001b[1;32m      8\u001b[0m     \u001b[0mdf\u001b[0m\u001b[0;34m.\u001b[0m\u001b[0mfillna\u001b[0m\u001b[0;34m(\u001b[0m\u001b[0;36m0\u001b[0m\u001b[0;34m,\u001b[0m \u001b[0minplace\u001b[0m\u001b[0;34m=\u001b[0m\u001b[0;32mTrue\u001b[0m\u001b[0;34m)\u001b[0m\u001b[0;34m\u001b[0m\u001b[0;34m\u001b[0m\u001b[0m\n\u001b[1;32m      9\u001b[0m     \u001b[0mdf\u001b[0m\u001b[0;34m.\u001b[0m\u001b[0mrename\u001b[0m\u001b[0;34m(\u001b[0m\u001b[0mcolumns\u001b[0m\u001b[0;34m=\u001b[0m\u001b[0;34m{\u001b[0m\u001b[0;34m\"Goal Assits\"\u001b[0m\u001b[0;34m:\u001b[0m \u001b[0;34m\"Goal Assists\"\u001b[0m\u001b[0;34m}\u001b[0m\u001b[0;34m,\u001b[0m \u001b[0minplace\u001b[0m\u001b[0;34m=\u001b[0m\u001b[0;32mTrue\u001b[0m\u001b[0;34m)\u001b[0m\u001b[0;34m\u001b[0m\u001b[0;34m\u001b[0m\u001b[0m\n\u001b[0;32m---> 10\u001b[0;31m     \u001b[0mmidfielders\u001b[0m \u001b[0;34m=\u001b[0m \u001b[0mdf\u001b[0m\u001b[0;34m[\u001b[0m\u001b[0mdf\u001b[0m\u001b[0;34m[\u001b[0m\u001b[0;34m\"Disposals\"\u001b[0m\u001b[0;34m]\u001b[0m\u001b[0;34m>\u001b[0m\u001b[0;36m15\u001b[0m\u001b[0;34m]\u001b[0m\u001b[0;34m\u001b[0m\u001b[0;34m\u001b[0m\u001b[0m\n\u001b[0m\u001b[1;32m     11\u001b[0m     \u001b[0;32mreturn\u001b[0m \u001b[0mmidfielders\u001b[0m\u001b[0;34m\u001b[0m\u001b[0;34m\u001b[0m\u001b[0m\n",
      "\u001b[0;32m/Library/Frameworks/Python.framework/Versions/3.9/lib/python3.9/site-packages/pandas/core/frame.py\u001b[0m in \u001b[0;36m__getitem__\u001b[0;34m(self, key)\u001b[0m\n\u001b[1;32m   2904\u001b[0m             \u001b[0;32mif\u001b[0m \u001b[0mself\u001b[0m\u001b[0;34m.\u001b[0m\u001b[0mcolumns\u001b[0m\u001b[0;34m.\u001b[0m\u001b[0mnlevels\u001b[0m \u001b[0;34m>\u001b[0m \u001b[0;36m1\u001b[0m\u001b[0;34m:\u001b[0m\u001b[0;34m\u001b[0m\u001b[0;34m\u001b[0m\u001b[0m\n\u001b[1;32m   2905\u001b[0m                 \u001b[0;32mreturn\u001b[0m \u001b[0mself\u001b[0m\u001b[0;34m.\u001b[0m\u001b[0m_getitem_multilevel\u001b[0m\u001b[0;34m(\u001b[0m\u001b[0mkey\u001b[0m\u001b[0;34m)\u001b[0m\u001b[0;34m\u001b[0m\u001b[0;34m\u001b[0m\u001b[0m\n\u001b[0;32m-> 2906\u001b[0;31m             \u001b[0mindexer\u001b[0m \u001b[0;34m=\u001b[0m \u001b[0mself\u001b[0m\u001b[0;34m.\u001b[0m\u001b[0mcolumns\u001b[0m\u001b[0;34m.\u001b[0m\u001b[0mget_loc\u001b[0m\u001b[0;34m(\u001b[0m\u001b[0mkey\u001b[0m\u001b[0;34m)\u001b[0m\u001b[0;34m\u001b[0m\u001b[0;34m\u001b[0m\u001b[0m\n\u001b[0m\u001b[1;32m   2907\u001b[0m             \u001b[0;32mif\u001b[0m \u001b[0mis_integer\u001b[0m\u001b[0;34m(\u001b[0m\u001b[0mindexer\u001b[0m\u001b[0;34m)\u001b[0m\u001b[0;34m:\u001b[0m\u001b[0;34m\u001b[0m\u001b[0;34m\u001b[0m\u001b[0m\n\u001b[1;32m   2908\u001b[0m                 \u001b[0mindexer\u001b[0m \u001b[0;34m=\u001b[0m \u001b[0;34m[\u001b[0m\u001b[0mindexer\u001b[0m\u001b[0;34m]\u001b[0m\u001b[0;34m\u001b[0m\u001b[0;34m\u001b[0m\u001b[0m\n",
      "\u001b[0;32m/Library/Frameworks/Python.framework/Versions/3.9/lib/python3.9/site-packages/pandas/core/indexes/base.py\u001b[0m in \u001b[0;36mget_loc\u001b[0;34m(self, key, method, tolerance)\u001b[0m\n\u001b[1;32m   2898\u001b[0m                 \u001b[0;32mreturn\u001b[0m \u001b[0mself\u001b[0m\u001b[0;34m.\u001b[0m\u001b[0m_engine\u001b[0m\u001b[0;34m.\u001b[0m\u001b[0mget_loc\u001b[0m\u001b[0;34m(\u001b[0m\u001b[0mcasted_key\u001b[0m\u001b[0;34m)\u001b[0m\u001b[0;34m\u001b[0m\u001b[0;34m\u001b[0m\u001b[0m\n\u001b[1;32m   2899\u001b[0m             \u001b[0;32mexcept\u001b[0m \u001b[0mKeyError\u001b[0m \u001b[0;32mas\u001b[0m \u001b[0merr\u001b[0m\u001b[0;34m:\u001b[0m\u001b[0;34m\u001b[0m\u001b[0;34m\u001b[0m\u001b[0m\n\u001b[0;32m-> 2900\u001b[0;31m                 \u001b[0;32mraise\u001b[0m \u001b[0mKeyError\u001b[0m\u001b[0;34m(\u001b[0m\u001b[0mkey\u001b[0m\u001b[0;34m)\u001b[0m \u001b[0;32mfrom\u001b[0m \u001b[0merr\u001b[0m\u001b[0;34m\u001b[0m\u001b[0;34m\u001b[0m\u001b[0m\n\u001b[0m\u001b[1;32m   2901\u001b[0m \u001b[0;34m\u001b[0m\u001b[0m\n\u001b[1;32m   2902\u001b[0m         \u001b[0;32mif\u001b[0m \u001b[0mtolerance\u001b[0m \u001b[0;32mis\u001b[0m \u001b[0;32mnot\u001b[0m \u001b[0;32mNone\u001b[0m\u001b[0;34m:\u001b[0m\u001b[0;34m\u001b[0m\u001b[0;34m\u001b[0m\u001b[0m\n",
      "\u001b[0;31mKeyError\u001b[0m: 'Disposals'"
     ]
    }
   ],
   "source": [
    "create_radar(name1, year1, template, pct=True)"
   ]
  },
  {
   "cell_type": "code",
   "execution_count": null,
   "metadata": {},
   "outputs": [],
   "source": [
    "create_radar(name2, year2, template, pct=True)"
   ]
  },
  {
   "cell_type": "code",
   "execution_count": null,
   "metadata": {},
   "outputs": [],
   "source": [
    "\n",
    "\n"
   ]
  },
  {
   "cell_type": "code",
   "execution_count": null,
   "metadata": {},
   "outputs": [],
   "source": []
  },
  {
   "cell_type": "code",
   "execution_count": null,
   "metadata": {},
   "outputs": [],
   "source": []
  },
  {
   "cell_type": "code",
   "execution_count": null,
   "metadata": {},
   "outputs": [],
   "source": []
  },
  {
   "cell_type": "code",
   "execution_count": null,
   "metadata": {},
   "outputs": [],
   "source": [
    "\n",
    "\n",
    "\n",
    "\n",
    "\n",
    "\n"
   ]
  },
  {
   "cell_type": "code",
   "execution_count": null,
   "metadata": {},
   "outputs": [],
   "source": []
  },
  {
   "cell_type": "code",
   "execution_count": null,
   "metadata": {},
   "outputs": [],
   "source": []
  },
  {
   "cell_type": "code",
   "execution_count": null,
   "metadata": {},
   "outputs": [],
   "source": []
  }
 ],
 "metadata": {
  "kernelspec": {
   "display_name": "Python 3",
   "language": "python",
   "name": "python3"
  },
  "language_info": {
   "codemirror_mode": {
    "name": "ipython",
    "version": 3
   },
   "file_extension": ".py",
   "mimetype": "text/x-python",
   "name": "python",
   "nbconvert_exporter": "python",
   "pygments_lexer": "ipython3",
   "version": "3.9.1"
  }
 },
 "nbformat": 4,
 "nbformat_minor": 4
}
