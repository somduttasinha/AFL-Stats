{
 "cells": [
  {
   "cell_type": "code",
   "execution_count": 12,
   "metadata": {},
   "outputs": [],
   "source": [
    "import pandas as pd\n",
    "import requests\n",
    "import numpy as np\n",
    "from bs4 import BeautifulSoup"
   ]
  },
  {
   "cell_type": "markdown",
   "metadata": {},
   "source": [
    "* I will only create csv files for years 2015 until and including 2021. This is because metres gained data is not available before 2015."
   ]
  },
  {
   "cell_type": "code",
   "execution_count": 13,
   "metadata": {},
   "outputs": [],
   "source": [
    "years = [2015, 2016, 2017, 2018, 2019, 2020, 2021]"
   ]
  },
  {
   "cell_type": "markdown",
   "metadata": {},
   "source": [
    "* Function to return the full url given a year and a stat."
   ]
  },
  {
   "cell_type": "code",
   "execution_count": 14,
   "metadata": {},
   "outputs": [],
   "source": [
    "def get_url(year, stat):\n",
    "    body = \"https://www.footywire.com/afl/footy/ft_player_rankings?year=\" + str(year) + \"&rt=LA&st=\" + stat\n",
    "    return body"
   ]
  },
  {
   "cell_type": "markdown",
   "metadata": {},
   "source": [
    "* Method to create a pandas DataFrame given a URL and a statistic "
   ]
  },
  {
   "cell_type": "code",
   "execution_count": 15,
   "metadata": {},
   "outputs": [],
   "source": [
    "def create_table(year, stat):\n",
    "    url = get_url(year, stat)\n",
    "    r = requests.get(url)\n",
    "    soup = BeautifulSoup(r.text, 'html.parser')\n",
    "    table = soup.find('table', 'width' == 688).find_all('table', 'border'== 0)[8]\n",
    "    rows = table.find_all('tr')\n",
    "    \n",
    "    names_list = []\n",
    "    teams_list = []\n",
    "    stats_list = []\n",
    "    # number of games played\n",
    "    games_list = []\n",
    "    for row in rows[1:]:\n",
    "        name = row.find_all('td')[1].text\n",
    "        team = row.find_all('td')[2].text\n",
    "        games_played = int(row.find_all('td')[3].text)\n",
    "        names_list.append(name)\n",
    "        teams_list.append(team)\n",
    "        games_list.append(games_played)\n",
    "        # Tables on footywire are formatted differently for the current season.\n",
    "        if int(year) == 2022:\n",
    "            try:\n",
    "                stat_value = float(row.find_all('td')[5].text)\n",
    "            except ValueError:\n",
    "                \n",
    "                stat_value = 0\n",
    "        else:\n",
    "            \n",
    "            try:\n",
    "                stat_value = float(row.find_all('td')[4].text)\n",
    "            except ValueError:\n",
    "                stat_value = 0\n",
    "        \n",
    "        stats_list.append(stat_value)\n",
    "    \n",
    "    \n",
    "    d = {\"Name\": names_list, \"Team\": teams_list, \"Games Played\": games_list, reversed_dictionary[stat]: stats_list}\n",
    "    \n",
    "    df = pd.DataFrame(data=d)\n",
    "    \n",
    "    if (year == 2022) :\n",
    "        df_filtered = df[df[\"Games Played\"]>1]\n",
    "    else:\n",
    "        df_filtered = df[df[\"Games Played\"]>5]\n",
    "    \n",
    "    return df_filtered\n",
    "        \n"
   ]
  },
  {
   "cell_type": "code",
   "execution_count": 16,
   "metadata": {},
   "outputs": [],
   "source": [
    "dictionary = {\n",
    "    \"Kicks\": \"KI\",\n",
    "    \"Handballs\": \"HB\",\n",
    "    \"Disposals\": \"DI\",\n",
    "    \"Marks\": \"MA\",\n",
    "    \"Goals\": \"GO\",\n",
    "    \"Behinds\": \"BE\",\n",
    "    \"Tackles\": \"TA\",\n",
    "    \"Hitouts\": \"HO\",\n",
    "    \"Inside 50s\": \"I5\",\n",
    "    \"Goal Assists\": \"GA\",\n",
    "    \"Contested Possessions\": \"CP\",\n",
    "    \"Uncontested Possessions\": \"UP\",\n",
    "    \"Effective Disposals\": \"ED\",\n",
    "    \"Disposal Efficiency\": \"EP\",\n",
    "    \"Clangers\": \"CG\",\n",
    "    \"Contested Marks\": \"CM\",\n",
    "    \"Marks Inside 50\": \"M5\",\n",
    "    \"Clearances\": \"CL\",\n",
    "    \"Centre Clearances\": \"CC\",\n",
    "    \"Stoppage Clearances\": \"SP\",\n",
    "    \"Rebound 50s\": \"R5\",\n",
    "    \"One Percenters\": \"1P\",\n",
    "    \"Bounces\": \"BO\",\n",
    "    \"Metres Gained\": \"MG\",\n",
    "    \"Score Involvements\": \"SI\",\n",
    "    \"Turnovers\": \"TO\",\n",
    "    \"Intercepts\": \"IT\",\n",
    "    \"Tackles Inside 50\": \"T5\",\n",
    "    \"Time On Ground\": \"TG\"\n",
    "}"
   ]
  },
  {
   "cell_type": "code",
   "execution_count": 17,
   "metadata": {},
   "outputs": [],
   "source": [
    "reversed_dictionary = {value : key for (key, value) in dictionary.items()}"
   ]
  },
  {
   "cell_type": "markdown",
   "metadata": {},
   "source": [
    "* Recursively merges every statistic DataFrame for a specific year and returns the final DataFrame"
   ]
  },
  {
   "cell_type": "code",
   "execution_count": 18,
   "metadata": {},
   "outputs": [],
   "source": [
    "def create_year_table(year, arr):\n",
    "    # base case: if the size of arr is 1, we return the data frame\n",
    "    if(len(arr)==1):\n",
    "        returnable = create_table(year,arr[0])\n",
    "        return returnable\n",
    "    # else we split into two\n",
    "    length = len(arr)\n",
    "    left_df = create_year_table(year, arr[0:int(len(arr)/2)])\n",
    "    right_df = create_year_table(year, arr[int(len(arr)/2): len(arr)])\n",
    "    # now we merge\n",
    "    final_df = left_df.merge(right_df, how=\"outer\", on=[\"Name\", \"Team\", \"Games Played\"])\n",
    "    return final_df"
   ]
  },
  {
   "cell_type": "code",
   "execution_count": 12,
   "metadata": {},
   "outputs": [
    {
     "name": "stdout",
     "output_type": "stream",
     "text": [
      "File for 2015 created!\n",
      "File for 2016 created!\n",
      "File for 2017 created!\n",
      "File for 2018 created!\n",
      "File for 2019 created!\n",
      "File for 2020 created!\n",
      "File for 2021 created!\n"
     ]
    }
   ],
   "source": [
    "# export to csv\n",
    "for year in years:\n",
    "    # create a dataframe\n",
    "    df = create_year_table(year, list(dictionary.values()))\n",
    "    df.fillna(0, inplace=True)\n",
    "    file_name = str(year) + \"_stats.csv\"\n",
    "    zip_name = str(year) + \".zip\"\n",
    "    compression_opts = dict(method='zip',\n",
    "                        archive_name=file_name)  \n",
    "    df.to_csv(zip_name, index=False,\n",
    "              compression=compression_opts)\n",
    "    print(\"File for \" + str(year) + \" created!\")"
   ]
  },
  {
   "cell_type": "code",
   "execution_count": 19,
   "metadata": {},
   "outputs": [],
   "source": [
    "# create 2022 table\n",
    "def create_2022_table():\n",
    "    df = create_year_table(2022, list(dictionary.values()))\n",
    "    df.fillna(0, inplace=True)\n",
    "    file_name = str(2022) + \"_stats.csv\"\n",
    "    zip_name = str(2022) + \".zip\"\n",
    "    compression_opts = dict(method='zip',\n",
    "                        archive_name=file_name)  \n",
    "    df.to_csv(zip_name, index=False,\n",
    "              compression=compression_opts)\n",
    "    print(\"File for \" + str(2022) + \" created!\")"
   ]
  },
  {
   "cell_type": "code",
   "execution_count": 20,
   "metadata": {},
   "outputs": [
    {
     "name": "stdout",
     "output_type": "stream",
     "text": [
      "File for 2022 created!\n"
     ]
    }
   ],
   "source": [
    "create_2022_table()"
   ]
  },
  {
   "cell_type": "code",
   "execution_count": 21,
   "metadata": {},
   "outputs": [],
   "source": [
    "dictionary2 = {\n",
    "    \"Kicks\": \"KI\",\n",
    "    \"Handballs\": \"HB\",\n",
    "    \"Disposals\": \"DI\",\n",
    "    \"Marks\": \"MA\",\n",
    "    \"Goals\": \"GO\",\n",
    "    \"Behinds\": \"BE\",\n",
    "    \"Tackles\": \"TA\",\n",
    "    \"Hitouts\": \"HO\",\n",
    "    \"Inside 50s\": \"I5\",\n",
    "    \"Goal Assists\": \"GA\",\n",
    "    \"Contested Possessions\": \"CP\",\n",
    "    \"Uncontested Possessions\": \"UP\",\n",
    "    \"Effective Disposals\": \"ED\",\n",
    "    \"Disposal Efficiency\": \"EP\",\n",
    "    \"Clangers\": \"CG\",\n",
    "    \"Contested Marks\": \"CM\",\n",
    "    \"Marks Inside 50\": \"M5\",\n",
    "    \"Clearances\": \"CL\",\n",
    "    \"Centre Clearances\": \"CC\",\n",
    "    \"Stoppage Clearances\": \"SP\",\n",
    "    \"Rebound 50s\": \"R5\",\n",
    "    \"One Percenters\": \"1P\",\n",
    "    \"Bounces\": \"BO\",\n",
    "    \"Score Involvements\": \"SI\",\n",
    "    \"Turnovers\": \"TO\",\n",
    "    \"Intercepts\": \"IT\",\n",
    "    \"Tackles Inside 50\": \"T5\",\n",
    "    \"Time On Ground\": \"TG\"\n",
    "}"
   ]
  },
  {
   "cell_type": "code",
   "execution_count": null,
   "metadata": {},
   "outputs": [],
   "source": [
    "years = []"
   ]
  },
  {
   "cell_type": "code",
   "execution_count": null,
   "metadata": {},
   "outputs": [],
   "source": []
  },
  {
   "cell_type": "code",
   "execution_count": null,
   "metadata": {},
   "outputs": [],
   "source": []
  }
 ],
 "metadata": {
  "kernelspec": {
   "display_name": "Python 3",
   "language": "python",
   "name": "python3"
  },
  "language_info": {
   "codemirror_mode": {
    "name": "ipython",
    "version": 3
   },
   "file_extension": ".py",
   "mimetype": "text/x-python",
   "name": "python",
   "nbconvert_exporter": "python",
   "pygments_lexer": "ipython3",
   "version": "3.9.1"
  }
 },
 "nbformat": 4,
 "nbformat_minor": 4
}
